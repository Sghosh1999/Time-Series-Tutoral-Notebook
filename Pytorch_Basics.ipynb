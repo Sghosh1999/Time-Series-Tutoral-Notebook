{
 "cells": [
  {
   "cell_type": "code",
   "execution_count": 1,
   "id": "fd30a895",
   "metadata": {},
   "outputs": [],
   "source": [
    "import torch"
   ]
  },
  {
   "cell_type": "code",
   "execution_count": 2,
   "id": "b79ed84b",
   "metadata": {},
   "outputs": [
    {
     "name": "stdout",
     "output_type": "stream",
     "text": [
      "tensor([0.2828, 0.8126, 0.2120])\n"
     ]
    }
   ],
   "source": [
    "x = torch.rand(3)\n",
    "print(x)"
   ]
  },
  {
   "cell_type": "code",
   "execution_count": 3,
   "id": "9db157d7",
   "metadata": {},
   "outputs": [],
   "source": [
    "#torch.cuda.is_availbale()"
   ]
  },
  {
   "cell_type": "code",
   "execution_count": 4,
   "id": "7b3cefd5",
   "metadata": {},
   "outputs": [
    {
     "name": "stdout",
     "output_type": "stream",
     "text": [
      "tensor([5.3265e-39])\n"
     ]
    }
   ],
   "source": [
    "#Empty Tensor\n",
    "x = torch.empty(1)\n",
    "print(x)"
   ]
  },
  {
   "cell_type": "code",
   "execution_count": 5,
   "id": "9f0f25e1",
   "metadata": {},
   "outputs": [
    {
     "name": "stdout",
     "output_type": "stream",
     "text": [
      "tensor([[0.0000e+00, 0.0000e+00, 0.0000e+00],\n",
      "        [0.0000e+00, 0.0000e+00, 1.0286e-38]])\n"
     ]
    }
   ],
   "source": [
    "x = torch.empty(2,3)\n",
    "print(x)"
   ]
  },
  {
   "cell_type": "code",
   "execution_count": 6,
   "id": "5191a9f9",
   "metadata": {},
   "outputs": [
    {
     "data": {
      "text/plain": [
       "torch.Size([2, 3])"
      ]
     },
     "execution_count": 6,
     "metadata": {},
     "output_type": "execute_result"
    }
   ],
   "source": [
    "x.shape"
   ]
  },
  {
   "cell_type": "code",
   "execution_count": 7,
   "id": "5fa61613",
   "metadata": {},
   "outputs": [
    {
     "name": "stdout",
     "output_type": "stream",
     "text": [
      "tensor([[0.3665, 0.7960],\n",
      "        [0.1645, 0.7798]])\n"
     ]
    }
   ],
   "source": [
    "x = torch.rand(2,2)\n",
    "print(x)"
   ]
  },
  {
   "cell_type": "code",
   "execution_count": 8,
   "id": "f6f648d1",
   "metadata": {},
   "outputs": [],
   "source": [
    "#Specifying the dtype parameter\n",
    "x = torch.zeros(2,2,dtype=torch.int)\n",
    "y = torch.ones(2,2)"
   ]
  },
  {
   "cell_type": "code",
   "execution_count": 9,
   "id": "ad92de1c",
   "metadata": {},
   "outputs": [
    {
     "name": "stdout",
     "output_type": "stream",
     "text": [
      "torch.int32\n"
     ]
    }
   ],
   "source": [
    "print(x.dtype)"
   ]
  },
  {
   "cell_type": "code",
   "execution_count": 10,
   "id": "03253f6d",
   "metadata": {},
   "outputs": [
    {
     "name": "stdout",
     "output_type": "stream",
     "text": [
      "torch.Size([2, 2])\n"
     ]
    }
   ],
   "source": [
    "print(x.size())"
   ]
  },
  {
   "cell_type": "code",
   "execution_count": 11,
   "id": "39b14c8f",
   "metadata": {},
   "outputs": [
    {
     "name": "stdout",
     "output_type": "stream",
     "text": [
      "tensor([2.5000, 0.1000])\n"
     ]
    }
   ],
   "source": [
    "x = torch.tensor([2.5,0.1])\n",
    "print(x)"
   ]
  },
  {
   "cell_type": "code",
   "execution_count": 12,
   "id": "f8c8bfb5",
   "metadata": {},
   "outputs": [
    {
     "name": "stdout",
     "output_type": "stream",
     "text": [
      "tensor([[0.7397, 0.5089],\n",
      "        [0.1187, 0.3313]])\n",
      "tensor([[0.4829, 0.3215],\n",
      "        [0.0140, 0.0987]])\n"
     ]
    }
   ],
   "source": [
    "x = torch.rand(2,2)\n",
    "y = torch.rand(2,2)\n",
    "print(x)\n",
    "print(y)"
   ]
  },
  {
   "cell_type": "code",
   "execution_count": 13,
   "id": "5fcf1ea7",
   "metadata": {},
   "outputs": [
    {
     "name": "stdout",
     "output_type": "stream",
     "text": [
      "tensor([[0.4829, 0.3215],\n",
      "        [0.0140, 0.0987]])\n"
     ]
    }
   ],
   "source": [
    "z = x + y\n",
    "#z = torch.add(z,y)\n",
    "#y.add_(x) #inplace\n",
    "print(y)"
   ]
  },
  {
   "cell_type": "code",
   "execution_count": 14,
   "id": "2e519ec4",
   "metadata": {},
   "outputs": [
    {
     "name": "stdout",
     "output_type": "stream",
     "text": [
      "tensor([[0.2569, 0.1873],\n",
      "        [0.1047, 0.2326]])\n"
     ]
    }
   ],
   "source": [
    "z = x - y\n",
    "#z = torch.sub_(y)\n",
    "print(z)"
   ]
  },
  {
   "cell_type": "code",
   "execution_count": 15,
   "id": "db87879a",
   "metadata": {},
   "outputs": [
    {
     "name": "stdout",
     "output_type": "stream",
     "text": [
      "tensor([[0.6105, 0.1771, 0.0643],\n",
      "        [0.7167, 0.4238, 0.7682],\n",
      "        [0.8162, 0.5673, 0.3727],\n",
      "        [0.4427, 0.4020, 0.6904],\n",
      "        [0.3526, 0.4362, 0.8469]])\n"
     ]
    }
   ],
   "source": [
    "x = torch.rand(5,3)\n",
    "print(x)"
   ]
  },
  {
   "cell_type": "code",
   "execution_count": 16,
   "id": "6f2be699",
   "metadata": {},
   "outputs": [
    {
     "data": {
      "text/plain": [
       "tensor([0.7167, 0.4238, 0.7682])"
      ]
     },
     "execution_count": 16,
     "metadata": {},
     "output_type": "execute_result"
    }
   ],
   "source": [
    "x[1,:]"
   ]
  },
  {
   "cell_type": "code",
   "execution_count": 17,
   "id": "92634267",
   "metadata": {},
   "outputs": [
    {
     "name": "stdout",
     "output_type": "stream",
     "text": [
      "tensor([[0.1440, 0.2858, 0.7119, 0.6232],\n",
      "        [0.6208, 0.8919, 0.1054, 0.1646],\n",
      "        [0.8576, 0.4645, 0.8819, 0.0931],\n",
      "        [0.6629, 0.5272, 0.8453, 0.1275]])\n"
     ]
    }
   ],
   "source": [
    "#Reshaping The tensors\n",
    "x = torch.rand(4,4)\n",
    "print(x)"
   ]
  },
  {
   "cell_type": "code",
   "execution_count": 18,
   "id": "ebd1432c",
   "metadata": {},
   "outputs": [
    {
     "name": "stdout",
     "output_type": "stream",
     "text": [
      "tensor([0.1440, 0.2858, 0.7119, 0.6232, 0.6208, 0.8919, 0.1054, 0.1646, 0.8576,\n",
      "        0.4645, 0.8819, 0.0931, 0.6629, 0.5272, 0.8453, 0.1275])\n"
     ]
    }
   ],
   "source": [
    "y = x.view(16)\n",
    "print(y)"
   ]
  },
  {
   "cell_type": "code",
   "execution_count": 19,
   "id": "2b60e5ed",
   "metadata": {},
   "outputs": [
    {
     "name": "stdout",
     "output_type": "stream",
     "text": [
      "tensor([1., 1., 1., 1., 1.])\n",
      "[1. 1. 1. 1. 1.]\n"
     ]
    }
   ],
   "source": [
    "#Pytorch tensor to Numpy\n",
    "import numpy as np\n",
    "\n",
    "a = torch.ones(5)\n",
    "print(a)\n",
    "b = a.numpy()\n",
    "print(b)"
   ]
  },
  {
   "cell_type": "code",
   "execution_count": 20,
   "id": "43658dc3",
   "metadata": {},
   "outputs": [
    {
     "name": "stdout",
     "output_type": "stream",
     "text": [
      "[1. 1. 1. 1. 1.]\n",
      "tensor([1., 1., 1., 1., 1.], dtype=torch.float64)\n"
     ]
    }
   ],
   "source": [
    "#Numpy to Pytorch\n",
    "a = np.ones(5)\n",
    "print(a)\n",
    "b = torch.from_numpy(a)\n",
    "print(b)"
   ]
  },
  {
   "cell_type": "code",
   "execution_count": 21,
   "id": "24ca8344",
   "metadata": {},
   "outputs": [
    {
     "data": {
      "text/plain": [
       "'2.0.0+cpu'"
      ]
     },
     "execution_count": 21,
     "metadata": {},
     "output_type": "execute_result"
    }
   ],
   "source": [
    "torch.__version__"
   ]
  },
  {
   "cell_type": "code",
   "execution_count": 22,
   "id": "2ba5e775",
   "metadata": {},
   "outputs": [
    {
     "data": {
      "text/plain": [
       "False"
      ]
     },
     "execution_count": 22,
     "metadata": {},
     "output_type": "execute_result"
    }
   ],
   "source": [
    "torch.cuda.is_available()"
   ]
  },
  {
   "cell_type": "markdown",
   "id": "15b305c2",
   "metadata": {},
   "source": [
    "---"
   ]
  },
  {
   "cell_type": "markdown",
   "id": "d871e194",
   "metadata": {},
   "source": [
    "## Gradient Calculation with AutoGrad"
   ]
  },
  {
   "cell_type": "code",
   "execution_count": 31,
   "id": "3445cfe0",
   "metadata": {},
   "outputs": [
    {
     "name": "stdout",
     "output_type": "stream",
     "text": [
      "tensor([0.6915, 0.4043, 0.8214], requires_grad=True)\n"
     ]
    }
   ],
   "source": [
    "import torch\n",
    "x = torch.rand(3,requires_grad=True)\n",
    "print(x)"
   ]
  },
  {
   "cell_type": "code",
   "execution_count": 32,
   "id": "d66841ce",
   "metadata": {},
   "outputs": [
    {
     "name": "stdout",
     "output_type": "stream",
     "text": [
      "tensor([2.6915, 2.4043, 2.8214], grad_fn=<AddBackward0>)\n"
     ]
    }
   ],
   "source": [
    "y = x + 2\n",
    "print(y)"
   ]
  },
  {
   "cell_type": "code",
   "execution_count": 35,
   "id": "51df65c0",
   "metadata": {},
   "outputs": [
    {
     "name": "stdout",
     "output_type": "stream",
     "text": [
      "tensor(13.9900, grad_fn=<MeanBackward0>)\n"
     ]
    }
   ],
   "source": [
    "z = y*y*2\n",
    "z = z.mean()\n",
    "print(z)"
   ]
  },
  {
   "cell_type": "code",
   "execution_count": 36,
   "id": "b80d82b3",
   "metadata": {},
   "outputs": [
    {
     "name": "stdout",
     "output_type": "stream",
     "text": [
      "tensor([3.5886, 3.2057, 3.7619])\n"
     ]
    }
   ],
   "source": [
    "z.backward()\n",
    "print(x.grad)"
   ]
  },
  {
   "cell_type": "code",
   "execution_count": 37,
   "id": "1a639704",
   "metadata": {},
   "outputs": [],
   "source": [
    " #Three ways to stop Gradient\n",
    "#x.requires_grad_(False)\n",
    "#x.detatch()\n",
    "#with torch.no_grad():"
   ]
  },
  {
   "cell_type": "code",
   "execution_count": 41,
   "id": "32e8d58d",
   "metadata": {},
   "outputs": [
    {
     "name": "stdout",
     "output_type": "stream",
     "text": [
      "tensor(1., grad_fn=<PowBackward0>)\n",
      "tensor(-2.)\n"
     ]
    }
   ],
   "source": [
    "##Backpropagation\n",
    "\n",
    "x = torch.tensor(1.0)\n",
    "y = torch.tensor(2.0)\n",
    "\n",
    "w = torch.tensor(1.0, requires_grad=True)\n",
    "\n",
    "#forward pass and compute teh loss\n",
    "y_hat = w * x\n",
    "loss = (y_hat - y) ** 2\n",
    "\n",
    "print(loss)\n",
    "\n",
    "#Backward pass\n",
    "loss.backward()\n",
    "print(w.grad)\n",
    "\n",
    "#Update weights"
   ]
  },
  {
   "cell_type": "markdown",
   "id": "595f4610",
   "metadata": {},
   "source": [
    "## Backpropagation Numpy Verison"
   ]
  },
  {
   "cell_type": "code",
   "execution_count": 44,
   "id": "a487f205",
   "metadata": {},
   "outputs": [
    {
     "name": "stdout",
     "output_type": "stream",
     "text": [
      "Prediction before Training: f(5) = 0.000\n",
      "Epoch 1: w = 1.200, loss = 30.00000000\n",
      "Epoch 2: w = 1.680, loss = 4.79999924\n",
      "Epoch 3: w = 1.872, loss = 0.76800019\n",
      "Epoch 4: w = 1.949, loss = 0.12288000\n",
      "Epoch 5: w = 1.980, loss = 0.01966083\n",
      "Epoch 6: w = 1.992, loss = 0.00314570\n",
      "Epoch 7: w = 1.997, loss = 0.00050332\n",
      "Epoch 8: w = 1.999, loss = 0.00008053\n",
      "Epoch 9: w = 1.999, loss = 0.00001288\n",
      "Epoch 10: w = 2.000, loss = 0.00000206\n",
      "Prediction after Training: f(5) = 9.999\n"
     ]
    }
   ],
   "source": [
    "import numpy as np\n",
    "\n",
    "# f= w * x\n",
    "\n",
    "# f = 2 * x\n",
    "\n",
    "X = np.array([1,2,3,4], dtype=np.float32)\n",
    "Y = np.array([2,4,6,8], dtype=np.float32)\n",
    "\n",
    "w = 0\n",
    "\n",
    "#Model Preidiction\n",
    "def forward(x):\n",
    "    return w * x\n",
    "\n",
    "#Loss\n",
    "def loss(y, y_predicted):\n",
    "    return ((y_predicted - y) ** 2).mean()\n",
    "\n",
    "#Gradient\n",
    "# MSE = 1/N * (w*x - y)**2\n",
    "# dJ/sw = 1/N 2w(w*x - y)\n",
    "\n",
    "def grad(x,y,y_predicted):\n",
    "    return np.dot(2*x, y_predicted - y).mean()\n",
    "\n",
    "print(f'Prediction before Training: f(5) = {forward(5):.3f}')\n",
    "\n",
    "#Training\n",
    "learning_rate = 0.01\n",
    "n_iters = 10\n",
    "\n",
    "for epoch in range(n_iters):\n",
    "    #pprediction = forward pass\n",
    "    y_pred =  forward(X)\n",
    "    \n",
    "    #Loss\n",
    "    l = loss(Y, y_pred)\n",
    "    \n",
    "    #Gradients\n",
    "    dw = grad(X,Y,y_pred)\n",
    "    \n",
    "    #update the weights\n",
    "    w = w - learning_rate * dw\n",
    "    \n",
    "    if epoch % 1 == 0:\n",
    "        print(f'Epoch {epoch +1}: w = {w:.3f}, loss = {l:.8f}')\n",
    "        \n",
    "print(f'Prediction after Training: f(5) = {forward(5):.3f}')"
   ]
  },
  {
   "cell_type": "markdown",
   "id": "7eb7599d",
   "metadata": {},
   "source": [
    "## Pytorch Version"
   ]
  },
  {
   "cell_type": "code",
   "execution_count": 56,
   "id": "ee661080",
   "metadata": {},
   "outputs": [
    {
     "name": "stdout",
     "output_type": "stream",
     "text": [
      "Prediction before Training: f(5) = 0.000\n",
      "Epoch 1: w = 0.300, loss = 30.00000000\n",
      "Epoch 11: w = 1.665, loss = 1.16278565\n",
      "Epoch 21: w = 1.934, loss = 0.04506890\n",
      "Epoch 31: w = 1.987, loss = 0.00174685\n",
      "Epoch 41: w = 1.997, loss = 0.00006770\n",
      "Epoch 51: w = 1.999, loss = 0.00000262\n",
      "Epoch 61: w = 2.000, loss = 0.00000010\n",
      "Epoch 71: w = 2.000, loss = 0.00000000\n",
      "Epoch 81: w = 2.000, loss = 0.00000000\n",
      "Epoch 91: w = 2.000, loss = 0.00000000\n",
      "Prediction after Training: f(5) = 10.000\n"
     ]
    }
   ],
   "source": [
    "import torch\n",
    "\n",
    "# f= w * x\n",
    "\n",
    "# f = 2 * x\n",
    "\n",
    "X = torch.tensor([1,2,3,4], dtype=torch.float32)\n",
    "Y = torch.tensor([2,4,6,8], dtype=torch.float32)\n",
    "\n",
    "w = torch.tensor(0.0, dtype=torch.float32, requires_grad=True)\n",
    "\n",
    "#Model Preidiction\n",
    "def forward(x):\n",
    "    return w * x\n",
    "\n",
    "#Loss\n",
    "def loss(y, y_predicted):\n",
    "    return ((y_predicted - y) ** 2).mean()\n",
    "\n",
    "\n",
    "print(f'Prediction before Training: f(5) = {forward(5):.3f}')\n",
    "\n",
    "#Training\n",
    "learning_rate = 0.01\n",
    "n_iters = 100\n",
    "\n",
    "for epoch in range(n_iters):\n",
    "    #pprediction = forward pass\n",
    "    y_pred =  forward(X)\n",
    "    \n",
    "    #Loss\n",
    "    l = loss(Y, y_pred)\n",
    "    \n",
    "    #Gradients\n",
    "    l.backward() #dw/dl\n",
    "  \n",
    "    #update the weights\n",
    "    with torch.no_grad():\n",
    "        w -= learning_rate * w.grad\n",
    "        \n",
    "    #Zero Gradient\n",
    "    w.grad.zero_()\n",
    "    \n",
    "    if epoch % 10 == 0:\n",
    "        print(f'Epoch {epoch +1}: w = {w:.3f}, loss = {l:.8f}')\n",
    "        \n",
    "print(f'Prediction after Training: f(5) = {forward(5):.3f}')"
   ]
  },
  {
   "cell_type": "markdown",
   "id": "9100a18b",
   "metadata": {},
   "source": [
    "## Training Pipeline: Model, Loss, and Optimizer"
   ]
  },
  {
   "cell_type": "code",
   "execution_count": 61,
   "id": "bbc92b73",
   "metadata": {},
   "outputs": [
    {
     "name": "stdout",
     "output_type": "stream",
     "text": [
      "Prediction before Training: f(5) = -4.365\n",
      "Epoch 1: w = -0.448, loss = 61.74198151\n",
      "Epoch 11: w = 0.961, loss = 3.16662979\n",
      "Epoch 21: w = 0.268, loss = 7.20725393\n",
      "Epoch 31: w = 0.211, loss = 4.22830629\n",
      "Epoch 41: w = 0.728, loss = 2.46925569\n",
      "Epoch 51: w = 1.226, loss = 0.97398102\n",
      "Epoch 61: w = 1.492, loss = 0.35339940\n",
      "Epoch 71: w = 1.612, loss = 0.19735640\n",
      "Epoch 81: w = 1.693, loss = 0.12363642\n",
      "Epoch 91: w = 1.771, loss = 0.07100772\n",
      "Prediction after Training: f(5) = 9.546\n"
     ]
    }
   ],
   "source": [
    "# 1.) Design Model (input, output size, forward pass)\n",
    "# 2.) Construct loss and optimizer\n",
    "# 3.) Training loop\n",
    "# - forward pass: compute prediction\n",
    "# - backward pass: gradients\n",
    "# - update weights\n",
    "\n",
    "import torch\n",
    "import torch.nn as nn\n",
    "\n",
    "# f= w * x\n",
    "# f = 2 * x\n",
    "\n",
    "X = torch.tensor([[1],[2],[3],[4]], dtype=torch.float32)\n",
    "Y = torch.tensor([[2],[4],[6],[8]], dtype=torch.float32)\n",
    "\n",
    "X_test = torch.tensor([5],dtype=torch.float32)\n",
    "\n",
    "n_samples, n_features = X.shape\n",
    "\n",
    "input_size = n_features\n",
    "output_size = n_features\n",
    "\n",
    "model = nn.Linear(input_size,output_size)\n",
    "\n",
    "#Class Implementation\n",
    "class LinearRegression(nn.Module):\n",
    "    def __init__(self, input_dim, output_dim):\n",
    "        super(LinearRegression, self).__init__()\n",
    "        #define layers\n",
    "        self.lin = nn.Linear(input_dim, output_dim)\n",
    "    \n",
    "    def forward(self,x):\n",
    "        return self.lin(x)\n",
    "    \n",
    "#Calling The Class \n",
    "model = LinearRegression(input_size,output_size)\n",
    "\n",
    "\n",
    "print(f'Prediction before Training: f(5) = {model(X_test).item():.3f}')\n",
    "\n",
    "#Training\n",
    "learning_rate = 0.01\n",
    "n_iters = 100\n",
    "loss = nn.MSELoss()\n",
    "optimizer = torch.optim.SGD(model.parameters(), lr=learning_rate)\n",
    "\n",
    "for epoch in range(n_iters):\n",
    "    #pprediction = forward pass\n",
    "    y_pred =  model(X)\n",
    "    \n",
    "    #Loss\n",
    "    l = loss(Y, y_pred)\n",
    "    \n",
    "    #Gradients\n",
    "    l.backward() #dw/dl\n",
    "  \n",
    "    #Update weights\n",
    "    optimizer.step()\n",
    "        \n",
    "    #Zero Gradient\n",
    "    w.grad.zero_()\n",
    "    \n",
    "    if epoch % 10 == 0:\n",
    "        [w,b] = model.parameters()\n",
    "        print(f'Epoch {epoch +1}: w = {w[0][0].item():.3f}, loss = {l:.8f}')\n",
    "        \n",
    "print(f'Prediction after Training: f(5) = {model(X_test).item():.3f}')"
   ]
  },
  {
   "cell_type": "code",
   "execution_count": null,
   "id": "718d7863",
   "metadata": {},
   "outputs": [],
   "source": []
  }
 ],
 "metadata": {
  "kernelspec": {
   "display_name": "Python 3 (ipykernel)",
   "language": "python",
   "name": "python3"
  },
  "language_info": {
   "codemirror_mode": {
    "name": "ipython",
    "version": 3
   },
   "file_extension": ".py",
   "mimetype": "text/x-python",
   "name": "python",
   "nbconvert_exporter": "python",
   "pygments_lexer": "ipython3",
   "version": "3.9.12"
  }
 },
 "nbformat": 4,
 "nbformat_minor": 5
}
